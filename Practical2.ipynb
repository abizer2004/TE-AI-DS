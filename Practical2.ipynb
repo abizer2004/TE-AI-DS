{
 "cells": [
  {
   "cell_type": "markdown",
   "id": "541e1c48-5c3a-4485-b284-d83c18937f50",
   "metadata": {},
   "source": [
    "Practical 2 : Data Wrangling-II: Create a synthetic \"Academic Performance\" dataset for students, and then perform various data wrangling operations in Python. The tasks will involve:\n",
    "1. Scanning the dataset for missing values and inconsistencies, and handling them.\n",
    "2. Identifying and dealing with outliers in numeric variables.\n",
    "3. Applying data transformations on at least one variable for better understanding or to improve distribution."
   ]
  },
  {
   "cell_type": "code",
   "execution_count": 1,
   "id": "5f3041bc-934b-498a-a73a-da79530d80c1",
   "metadata": {},
   "outputs": [],
   "source": [
    "import numpy as np\n",
    "import pandas as pd"
   ]
  },
  {
   "cell_type": "code",
   "execution_count": 2,
   "id": "e3a75f24-b309-417a-8a4b-8da1f02ffede",
   "metadata": {},
   "outputs": [],
   "source": [
    "data = {\n",
    "    'studentid' : range(1, 101),\n",
    "    'age' : np.random.randint(18, 25, 100),\n",
    "    'gender' : np.random.choice(['male','female'], 100),\n",
    "    'subject1' : np.random.randint(50, 100, 100),\n",
    "    'subject2' : np.random.randint(60, 90, 100),\n",
    "    'subject3' : np.random.randint(55, 95, 100),\n",
    "    'attendance' : np.random.uniform(70, 100, 100),\n",
    "    'grade' : np.random.choice(['a','b','c'], 100)\n",
    "}"
   ]
  },
  {
   "cell_type": "code",
   "execution_count": 3,
   "id": "74ba8b45-a3ed-4436-a164-8621c7501b04",
   "metadata": {},
   "outputs": [],
   "source": [
    "df = pd.DataFrame(data)"
   ]
  },
  {
   "cell_type": "code",
   "execution_count": 4,
   "id": "20978149-c538-4253-a48c-f592dfe50eb7",
   "metadata": {},
   "outputs": [
    {
     "data": {
      "text/html": [
       "<div>\n",
       "<style scoped>\n",
       "    .dataframe tbody tr th:only-of-type {\n",
       "        vertical-align: middle;\n",
       "    }\n",
       "\n",
       "    .dataframe tbody tr th {\n",
       "        vertical-align: top;\n",
       "    }\n",
       "\n",
       "    .dataframe thead th {\n",
       "        text-align: right;\n",
       "    }\n",
       "</style>\n",
       "<table border=\"1\" class=\"dataframe\">\n",
       "  <thead>\n",
       "    <tr style=\"text-align: right;\">\n",
       "      <th></th>\n",
       "      <th>studentid</th>\n",
       "      <th>age</th>\n",
       "      <th>gender</th>\n",
       "      <th>subject1</th>\n",
       "      <th>subject2</th>\n",
       "      <th>subject3</th>\n",
       "      <th>attendance</th>\n",
       "      <th>grade</th>\n",
       "    </tr>\n",
       "  </thead>\n",
       "  <tbody>\n",
       "    <tr>\n",
       "      <th>0</th>\n",
       "      <td>1</td>\n",
       "      <td>18</td>\n",
       "      <td>male</td>\n",
       "      <td>54</td>\n",
       "      <td>63</td>\n",
       "      <td>85</td>\n",
       "      <td>82.035649</td>\n",
       "      <td>c</td>\n",
       "    </tr>\n",
       "    <tr>\n",
       "      <th>1</th>\n",
       "      <td>2</td>\n",
       "      <td>20</td>\n",
       "      <td>female</td>\n",
       "      <td>94</td>\n",
       "      <td>69</td>\n",
       "      <td>77</td>\n",
       "      <td>75.706201</td>\n",
       "      <td>c</td>\n",
       "    </tr>\n",
       "    <tr>\n",
       "      <th>2</th>\n",
       "      <td>3</td>\n",
       "      <td>18</td>\n",
       "      <td>female</td>\n",
       "      <td>91</td>\n",
       "      <td>82</td>\n",
       "      <td>77</td>\n",
       "      <td>81.819433</td>\n",
       "      <td>b</td>\n",
       "    </tr>\n",
       "    <tr>\n",
       "      <th>3</th>\n",
       "      <td>4</td>\n",
       "      <td>18</td>\n",
       "      <td>female</td>\n",
       "      <td>99</td>\n",
       "      <td>84</td>\n",
       "      <td>85</td>\n",
       "      <td>77.866472</td>\n",
       "      <td>a</td>\n",
       "    </tr>\n",
       "    <tr>\n",
       "      <th>4</th>\n",
       "      <td>5</td>\n",
       "      <td>18</td>\n",
       "      <td>female</td>\n",
       "      <td>54</td>\n",
       "      <td>63</td>\n",
       "      <td>72</td>\n",
       "      <td>73.398434</td>\n",
       "      <td>a</td>\n",
       "    </tr>\n",
       "    <tr>\n",
       "      <th>...</th>\n",
       "      <td>...</td>\n",
       "      <td>...</td>\n",
       "      <td>...</td>\n",
       "      <td>...</td>\n",
       "      <td>...</td>\n",
       "      <td>...</td>\n",
       "      <td>...</td>\n",
       "      <td>...</td>\n",
       "    </tr>\n",
       "    <tr>\n",
       "      <th>95</th>\n",
       "      <td>96</td>\n",
       "      <td>24</td>\n",
       "      <td>female</td>\n",
       "      <td>97</td>\n",
       "      <td>84</td>\n",
       "      <td>80</td>\n",
       "      <td>78.759920</td>\n",
       "      <td>b</td>\n",
       "    </tr>\n",
       "    <tr>\n",
       "      <th>96</th>\n",
       "      <td>97</td>\n",
       "      <td>22</td>\n",
       "      <td>female</td>\n",
       "      <td>91</td>\n",
       "      <td>60</td>\n",
       "      <td>92</td>\n",
       "      <td>78.302851</td>\n",
       "      <td>b</td>\n",
       "    </tr>\n",
       "    <tr>\n",
       "      <th>97</th>\n",
       "      <td>98</td>\n",
       "      <td>23</td>\n",
       "      <td>female</td>\n",
       "      <td>86</td>\n",
       "      <td>79</td>\n",
       "      <td>92</td>\n",
       "      <td>88.178161</td>\n",
       "      <td>b</td>\n",
       "    </tr>\n",
       "    <tr>\n",
       "      <th>98</th>\n",
       "      <td>99</td>\n",
       "      <td>24</td>\n",
       "      <td>female</td>\n",
       "      <td>97</td>\n",
       "      <td>79</td>\n",
       "      <td>94</td>\n",
       "      <td>92.646083</td>\n",
       "      <td>c</td>\n",
       "    </tr>\n",
       "    <tr>\n",
       "      <th>99</th>\n",
       "      <td>100</td>\n",
       "      <td>23</td>\n",
       "      <td>female</td>\n",
       "      <td>72</td>\n",
       "      <td>85</td>\n",
       "      <td>60</td>\n",
       "      <td>80.812967</td>\n",
       "      <td>c</td>\n",
       "    </tr>\n",
       "  </tbody>\n",
       "</table>\n",
       "<p>100 rows × 8 columns</p>\n",
       "</div>"
      ],
      "text/plain": [
       "    studentid  age  gender  subject1  subject2  subject3  attendance grade\n",
       "0           1   18    male        54        63        85   82.035649     c\n",
       "1           2   20  female        94        69        77   75.706201     c\n",
       "2           3   18  female        91        82        77   81.819433     b\n",
       "3           4   18  female        99        84        85   77.866472     a\n",
       "4           5   18  female        54        63        72   73.398434     a\n",
       "..        ...  ...     ...       ...       ...       ...         ...   ...\n",
       "95         96   24  female        97        84        80   78.759920     b\n",
       "96         97   22  female        91        60        92   78.302851     b\n",
       "97         98   23  female        86        79        92   88.178161     b\n",
       "98         99   24  female        97        79        94   92.646083     c\n",
       "99        100   23  female        72        85        60   80.812967     c\n",
       "\n",
       "[100 rows x 8 columns]"
      ]
     },
     "execution_count": 4,
     "metadata": {},
     "output_type": "execute_result"
    }
   ],
   "source": [
    "df"
   ]
  },
  {
   "cell_type": "code",
   "execution_count": 5,
   "id": "6c4cd938-5149-408c-be6d-4b6b18a9ea94",
   "metadata": {},
   "outputs": [],
   "source": [
    "df.loc[(5, 15, 69), 'subject1'] = np.nan\n",
    "df.loc[(20, 34, 67), 'subject2'] = np.nan\n",
    "df.loc[(35, 56, 98), 'subject3'] = np.nan"
   ]
  },
  {
   "cell_type": "code",
   "execution_count": 6,
   "id": "0e193b46-cea1-408c-9e75-6ed633c8a48d",
   "metadata": {},
   "outputs": [
    {
     "data": {
      "text/plain": [
       "studentid     0\n",
       "age           0\n",
       "gender        0\n",
       "subject1      3\n",
       "subject2      3\n",
       "subject3      3\n",
       "attendance    0\n",
       "grade         0\n",
       "dtype: int64"
      ]
     },
     "execution_count": 6,
     "metadata": {},
     "output_type": "execute_result"
    }
   ],
   "source": [
    "df.isnull().sum()"
   ]
  },
  {
   "cell_type": "code",
   "execution_count": 9,
   "id": "34104ea2-9c35-4559-8014-f9639c734a1d",
   "metadata": {},
   "outputs": [
    {
     "name": "stderr",
     "output_type": "stream",
     "text": [
      "C:\\Users\\Admin\\AppData\\Local\\Temp\\ipykernel_6468\\4094255073.py:3: FutureWarning: A value is trying to be set on a copy of a DataFrame or Series through chained assignment using an inplace method.\n",
      "The behavior will change in pandas 3.0. This inplace method will never work because the intermediate object on which we are setting values always behaves as a copy.\n",
      "\n",
      "For example, when doing 'df[col].method(value, inplace=True)', try using 'df.method({col: value}, inplace=True)' or df[col] = df[col].method(value) instead, to perform the operation inplace on the original object.\n",
      "\n",
      "\n",
      "  df['subject3'] = df['subject3'].fillna(df['subject3'].mode(), inplace = True)\n"
     ]
    }
   ],
   "source": [
    "df['subject1'] = df['subject1'].fillna(df['subject1'].mean())\n",
    "df['subject2'] = df['subject2'].fillna(df['subject2'].median())\n",
    "df['subject3'] = df['subject3'].fillna(df['subject3'].mode(), inplace = True)"
   ]
  },
  {
   "cell_type": "code",
   "execution_count": 10,
   "id": "4402c49f-9fee-4785-8024-e21380114999",
   "metadata": {},
   "outputs": [
    {
     "data": {
      "text/plain": [
       "studentid       0\n",
       "age             0\n",
       "gender          0\n",
       "subject1        0\n",
       "subject2        0\n",
       "subject3      100\n",
       "attendance      0\n",
       "grade           0\n",
       "dtype: int64"
      ]
     },
     "execution_count": 10,
     "metadata": {},
     "output_type": "execute_result"
    }
   ],
   "source": [
    "df.isnull().sum()"
   ]
  },
  {
   "cell_type": "code",
   "execution_count": 16,
   "id": "cb4b4574-99d8-4563-b945-80231923a14a",
   "metadata": {},
   "outputs": [],
   "source": [
    "df = df.drop('subject3', axis = 1)"
   ]
  },
  {
   "cell_type": "code",
   "execution_count": 17,
   "id": "e10fd062-619d-4552-8186-74dda6e84b9c",
   "metadata": {},
   "outputs": [],
   "source": [
    "df['attendance'] = df['attendance'].clip(0,100)"
   ]
  },
  {
   "cell_type": "code",
   "execution_count": 18,
   "id": "e56c1b88-55f5-4490-9ce5-406680a66433",
   "metadata": {},
   "outputs": [],
   "source": [
    "df['grade'] = df['grade'].apply(lambda x:x if x in ['a','b','c'] else 'c')"
   ]
  },
  {
   "cell_type": "code",
   "execution_count": 19,
   "id": "91567cf9-08af-48c3-840d-5b7080e68e7c",
   "metadata": {},
   "outputs": [
    {
     "data": {
      "text/plain": [
       "studentid     0\n",
       "age           0\n",
       "gender        0\n",
       "subject1      0\n",
       "subject2      0\n",
       "attendance    0\n",
       "grade         0\n",
       "dtype: int64"
      ]
     },
     "execution_count": 19,
     "metadata": {},
     "output_type": "execute_result"
    }
   ],
   "source": [
    "df.isnull().sum()"
   ]
  },
  {
   "cell_type": "code",
   "execution_count": 20,
   "id": "5c97c054-6e14-4ec3-bcc8-e4eb7929fbe3",
   "metadata": {},
   "outputs": [],
   "source": [
    "def detect_outliers(df, column):\n",
    "    q1 = df[column].quantile(0.25)\n",
    "    q3 = df[column].quantile(0.75)\n",
    "    iqr = q3 - q1\n",
    "    lowerbound = q1 - 1.5 * iqr\n",
    "    upperbound = q1 + 1.5 * iqr\n",
    "    return df[(df[column] < lowerbound) | (df[column] > upperbound)]"
   ]
  },
  {
   "cell_type": "code",
   "execution_count": 21,
   "id": "dc8cb3cf-f390-4a67-8966-2e439f7ec598",
   "metadata": {},
   "outputs": [
    {
     "name": "stdout",
     "output_type": "stream",
     "text": [
      "Empty DataFrame\n",
      "Columns: [studentid, age, gender, subject1, subject2, attendance, grade]\n",
      "Index: []\n"
     ]
    }
   ],
   "source": [
    "print(detect_outliers(df, 'subject1'))"
   ]
  },
  {
   "cell_type": "code",
   "execution_count": 22,
   "id": "4d517adc-2b7e-40b2-b8c5-1ddfdf9c4c73",
   "metadata": {},
   "outputs": [
    {
     "name": "stdout",
     "output_type": "stream",
     "text": [
      "Empty DataFrame\n",
      "Columns: [studentid, age, gender, subject1, subject2, attendance, grade]\n",
      "Index: []\n"
     ]
    }
   ],
   "source": [
    "print(detect_outliers(df, 'subject2'))"
   ]
  },
  {
   "cell_type": "code",
   "execution_count": 24,
   "id": "6ea63eeb-1174-46c3-b5a2-9eaa77845b1b",
   "metadata": {},
   "outputs": [],
   "source": [
    "#clipping them to iqr bounds\n",
    "df['subject1'] = np.clip(df['subject1'], df['subject1'].quantile(0.25) - 1.5 * (df['subject1'].quantile(0.75) - df['subject1'].quantile(0.25)),\n",
    "df['subject1'].quantile(0.75) + 1.5 * (df['subject1'].quantile(0.75) - df['subject1'].quantile(0.25)))"
   ]
  },
  {
   "cell_type": "markdown",
   "id": "4fca150b-a8aa-42a3-856b-555eed92ce41",
   "metadata": {},
   "source": [
    "1] Skewness ≈ 0 → Symmetric Distribution\n",
    "\n",
    "2] Skewness > 0 → Right-Skewed (Positively Skewed)\n",
    "\n",
    "3] Skewness < 0 → Left-Skewed (Negatively Skewed)\n",
    "\n",
    "If |skewness| > 1, the data is highly skewed"
   ]
  },
  {
   "cell_type": "code",
   "execution_count": 25,
   "id": "e2aaa5b6-69ae-4348-bdd2-c4411f61ac4b",
   "metadata": {},
   "outputs": [
    {
     "name": "stdout",
     "output_type": "stream",
     "text": [
      "-0.22343664998264953\n"
     ]
    }
   ],
   "source": [
    "print(df['subject1'].skew())"
   ]
  },
  {
   "cell_type": "code",
   "execution_count": 26,
   "id": "9699b266-fba2-4259-81fc-e42641783ee9",
   "metadata": {},
   "outputs": [],
   "source": [
    "df['subject1'] = np.log(df['subject1'] + 1)"
   ]
  },
  {
   "cell_type": "code",
   "execution_count": 27,
   "id": "851aab0d-0857-45f5-8ad2-62860a51a2cf",
   "metadata": {},
   "outputs": [
    {
     "name": "stdout",
     "output_type": "stream",
     "text": [
      "-0.4589621985351629\n"
     ]
    }
   ],
   "source": [
    "print(df['subject1'].skew())"
   ]
  },
  {
   "cell_type": "code",
   "execution_count": null,
   "id": "099ef454-3fcc-4ad0-b50c-cd6c91e35525",
   "metadata": {},
   "outputs": [],
   "source": []
  }
 ],
 "metadata": {
  "kernelspec": {
   "display_name": "Python 3 (ipykernel)",
   "language": "python",
   "name": "python3"
  },
  "language_info": {
   "codemirror_mode": {
    "name": "ipython",
    "version": 3
   },
   "file_extension": ".py",
   "mimetype": "text/x-python",
   "name": "python",
   "nbconvert_exporter": "python",
   "pygments_lexer": "ipython3",
   "version": "3.12.7"
  }
 },
 "nbformat": 4,
 "nbformat_minor": 5
}
