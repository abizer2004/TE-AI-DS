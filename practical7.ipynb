{
 "cells": [
  {
   "cell_type": "markdown",
   "id": "1ec1e6f7-1e29-478f-88b2-071da3c37720",
   "metadata": {},
   "source": [
    "Practical 7 : Text Analytics 1. Extract Sample document and apply following document preprocessing methods: Tokenization, POS Tagging, stop words removal, Stemming and Lemmatization.\n",
    "2. Create representation of documents by calculating Term Frequency and Inverse DocumentFrequency."
   ]
  },
  {
   "cell_type": "code",
   "execution_count": 2,
   "id": "ca35de2e-f01c-4533-bc81-fd0000325144",
   "metadata": {},
   "outputs": [],
   "source": [
    "import nltk\n",
    "from nltk.corpus import stopwords\n",
    "from nltk.tokenize import word_tokenize\n",
    "from nltk.stem import PorterStemmer\n",
    "from nltk.stem import WordNetLemmatizer\n",
    "from sklearn.feature_extraction.text import TfidfVectorizer"
   ]
  },
  {
   "cell_type": "code",
   "execution_count": 3,
   "id": "f695f030-c4e0-402f-894a-e6f5851f419b",
   "metadata": {},
   "outputs": [
    {
     "name": "stderr",
     "output_type": "stream",
     "text": [
      "[nltk_data] Downloading package punkt to\n",
      "[nltk_data]     C:\\Users\\Admin\\AppData\\Roaming\\nltk_data...\n",
      "[nltk_data]   Package punkt is already up-to-date!\n",
      "[nltk_data] Downloading package punkt_tab to\n",
      "[nltk_data]     C:\\Users\\Admin\\AppData\\Roaming\\nltk_data...\n",
      "[nltk_data]   Package punkt_tab is already up-to-date!\n",
      "[nltk_data] Downloading package stopwords to\n",
      "[nltk_data]     C:\\Users\\Admin\\AppData\\Roaming\\nltk_data...\n",
      "[nltk_data]   Package stopwords is already up-to-date!\n",
      "[nltk_data] Downloading package wordnet to\n",
      "[nltk_data]     C:\\Users\\Admin\\AppData\\Roaming\\nltk_data...\n",
      "[nltk_data]   Package wordnet is already up-to-date!\n"
     ]
    },
    {
     "data": {
      "text/plain": [
       "True"
      ]
     },
     "execution_count": 3,
     "metadata": {},
     "output_type": "execute_result"
    }
   ],
   "source": [
    "nltk.download('punkt')\n",
    "nltk.download('punkt_tab')\n",
    "nltk.download('stopwords')\n",
    "nltk.download('wordnet')"
   ]
  },
  {
   "cell_type": "code",
   "execution_count": 4,
   "id": "8f1689e2-5088-4afd-8af4-b00550eeb30e",
   "metadata": {},
   "outputs": [],
   "source": [
    "document = \"Text Analytics is a crucial step in analyzing unstructured data. It involves tokenization, lemmatization, and stop words removal.\""
   ]
  },
  {
   "cell_type": "code",
   "execution_count": 5,
   "id": "660b30e3-aac8-4b8d-a7f9-d76b6f3ee9fc",
   "metadata": {},
   "outputs": [
    {
     "name": "stdout",
     "output_type": "stream",
     "text": [
      "['Text', 'Analytics', 'is', 'a', 'crucial', 'step', 'in', 'analyzing', 'unstructured', 'data', '.', 'It', 'involves', 'tokenization', ',', 'lemmatization', ',', 'and', 'stop', 'words', 'removal', '.']\n"
     ]
    }
   ],
   "source": [
    "tokens = word_tokenize(document)\n",
    "print(tokens)"
   ]
  },
  {
   "cell_type": "code",
   "execution_count": 6,
   "id": "f4288bdb-e00f-45a4-8116-6212e9f1c67e",
   "metadata": {},
   "outputs": [
    {
     "name": "stdout",
     "output_type": "stream",
     "text": [
      "[('Text', 'NN'), ('Analytics', 'NNPS'), ('is', 'VBZ'), ('a', 'DT'), ('crucial', 'JJ'), ('step', 'NN'), ('in', 'IN'), ('analyzing', 'VBG'), ('unstructured', 'JJ'), ('data', 'NNS'), ('.', '.'), ('It', 'PRP'), ('involves', 'VBZ'), ('tokenization', 'NN'), (',', ','), ('lemmatization', 'NN'), (',', ','), ('and', 'CC'), ('stop', 'VB'), ('words', 'NNS'), ('removal', 'NN'), ('.', '.')]\n"
     ]
    }
   ],
   "source": [
    "pos_tags = nltk.pos_tag(tokens)\n",
    "print(pos_tags)"
   ]
  },
  {
   "cell_type": "code",
   "execution_count": 7,
   "id": "a39044f6-a433-455d-9c37-c6a320657757",
   "metadata": {},
   "outputs": [],
   "source": [
    "stop_words = set(stopwords.words('english'))"
   ]
  },
  {
   "cell_type": "code",
   "execution_count": 8,
   "id": "8adf03da-035f-4da2-b1ab-2ab0dbedac99",
   "metadata": {},
   "outputs": [
    {
     "name": "stdout",
     "output_type": "stream",
     "text": [
      "Filtered Tokens: ['Text', 'Analytics', 'crucial', 'step', 'analyzing', 'unstructured', 'data', '.', 'involves', 'tokenization', ',', 'lemmatization', ',', 'stop', 'words', 'removal', '.']\n"
     ]
    }
   ],
   "source": [
    "filtered_tokens = [word for word in tokens if word.lower() not in stop_words]\n",
    "print(\"Filtered Tokens:\", filtered_tokens)"
   ]
  },
  {
   "cell_type": "code",
   "execution_count": 9,
   "id": "46f03cc1-1387-40e7-8b00-8c311db8ddda",
   "metadata": {},
   "outputs": [
    {
     "name": "stdout",
     "output_type": "stream",
     "text": [
      "['text', 'analyt', 'crucial', 'step', 'analyz', 'unstructur', 'data', '.', 'involv', 'token', ',', 'lemmat', ',', 'stop', 'word', 'remov', '.']\n"
     ]
    }
   ],
   "source": [
    "stemmer = PorterStemmer()\n",
    "stemmed_words = [stemmer.stem(word) for word in filtered_tokens]\n",
    "print(stemmed_words)"
   ]
  },
  {
   "cell_type": "code",
   "execution_count": 10,
   "id": "9e8b98d2-eabf-4489-90bd-941218267314",
   "metadata": {},
   "outputs": [
    {
     "name": "stdout",
     "output_type": "stream",
     "text": [
      "['Text', 'Analytics', 'crucial', 'step', 'analyzing', 'unstructured', 'data', '.', 'involves', 'tokenization', ',', 'lemmatization', ',', 'stop', 'word', 'removal', '.']\n"
     ]
    }
   ],
   "source": [
    "lemmatizer = WordNetLemmatizer()\n",
    "lemmatized_words = [lemmatizer.lemmatize(word) for word in filtered_tokens]\n",
    "print(lemmatized_words)"
   ]
  },
  {
   "cell_type": "code",
   "execution_count": 11,
   "id": "ff3df6a5-0abb-44f6-bc12-56ed98f62dc6",
   "metadata": {},
   "outputs": [],
   "source": [
    "corpus = [document]\n",
    "vectorizer = TfidfVectorizer()\n",
    "tfidf_matrix = vectorizer.fit_transform(corpus)"
   ]
  },
  {
   "cell_type": "code",
   "execution_count": 12,
   "id": "aaed314c-8838-4af5-bea4-738e9970d78a",
   "metadata": {},
   "outputs": [
    {
     "name": "stdout",
     "output_type": "stream",
     "text": [
      "TF-IDF Matrix:\n",
      "[[0.24253563 0.24253563 0.24253563 0.24253563 0.24253563 0.24253563\n",
      "  0.24253563 0.24253563 0.24253563 0.24253563 0.24253563 0.24253563\n",
      "  0.24253563 0.24253563 0.24253563 0.24253563 0.24253563]]\n",
      "Feature Names (words): ['analytics' 'analyzing' 'and' 'crucial' 'data' 'in' 'involves' 'is' 'it'\n",
      " 'lemmatization' 'removal' 'step' 'stop' 'text' 'tokenization'\n",
      " 'unstructured' 'words']\n"
     ]
    }
   ],
   "source": [
    "print(\"TF-IDF Matrix:\")\n",
    "print(tfidf_matrix.toarray())\n",
    "print(\"Feature Names (words):\", vectorizer.get_feature_names_out())"
   ]
  },
  {
   "cell_type": "code",
   "execution_count": null,
   "id": "864abd6f-f7d5-45b0-b10e-ed22c09bdc54",
   "metadata": {},
   "outputs": [],
   "source": []
  },
  {
   "cell_type": "code",
   "execution_count": null,
   "id": "a6efd853-bcfc-41d6-8b8e-ea4c4c4af70c",
   "metadata": {},
   "outputs": [],
   "source": []
  }
 ],
 "metadata": {
  "kernelspec": {
   "display_name": "Python 3 (ipykernel)",
   "language": "python",
   "name": "python3"
  },
  "language_info": {
   "codemirror_mode": {
    "name": "ipython",
    "version": 3
   },
   "file_extension": ".py",
   "mimetype": "text/x-python",
   "name": "python",
   "nbconvert_exporter": "python",
   "pygments_lexer": "ipython3",
   "version": "3.12.7"
  }
 },
 "nbformat": 4,
 "nbformat_minor": 5
}
